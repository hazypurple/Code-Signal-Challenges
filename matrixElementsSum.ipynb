{
 "cells": [
  {
   "cell_type": "markdown",
   "metadata": {},
   "source": [
    "After becoming famous, the CodeBots decided to move into a new building together. Each of the rooms has a different cost, and some of them are free, but there's a rumour that all the free rooms are haunted! Since the CodeBots are quite superstitious, they refuse to stay in any of the free rooms, or any of the rooms below any of the free rooms.\n",
    "\n",
    "Given matrix, a rectangular matrix of integers, where each value represents the cost of the room, your task is to return the total sum of all rooms that are suitable for the CodeBots (ie: add up all the values that don't appear below a 0).\n",
    "\n",
    "Example\n",
    "\n",
    "For\n",
    "\n",
    "matrix = [[0, 1, 1, 2], \n",
    "          [0, 5, 0, 0], \n",
    "          [2, 0, 3, 3]]\n",
    "the output should be\n",
    "matrixElementsSum(matrix) = 9.\n",
    "\n",
    "example 1\n",
    "\n",
    "There are several haunted rooms, so we'll disregard them as well as any rooms beneath them. Thus, the answer is 1 + 5 + 1 + 2 = 9.\n",
    "\n",
    "For\n",
    "\n",
    "matrix = [[1, 1, 1, 0], \n",
    "          [0, 5, 0, 1], \n",
    "          [2, 1, 3, 10]]\n",
    "the output should be\n",
    "matrixElementsSum(matrix) = 9.\n",
    "\n",
    "example 2\n",
    "\n",
    "Note that the free room in the final column makes the full column unsuitable for bots (not just the room directly beneath it). Thus, the answer is 1 + 1 + 1 + 5 + 1 = 9.\n",
    "\n",
    "Input/Output\n",
    "\n",
    "[execution time limit] 4 seconds (py3)\n",
    "\n",
    "[input] array.array.integer matrix\n",
    "\n",
    "A 2-dimensional array of integers representing the cost of each room in the building. A value of 0 indicates that the room is haunted.\n",
    "\n",
    "Guaranteed constraints:\n",
    "1 ≤ matrix.length ≤ 5,\n",
    "1 ≤ matrix[i].length ≤ 5,\n",
    "0 ≤ matrix[i][j] ≤ 10.\n",
    "\n",
    "[output] integer\n",
    "\n",
    "The total price of all the rooms that are suitable for the CodeBots to live in."
   ]
  },
  {
   "cell_type": "code",
   "execution_count": 108,
   "metadata": {},
   "outputs": [],
   "source": [
    "def matrixElementsSum(matrix):\n",
    "    \n",
    "    result = 0\n",
    "    \n",
    "    for x in range(len(matrix)):\n",
    "        for y in range(len(matrix[x])):\n",
    "            num = matrix[x][y]\n",
    "            \n",
    "            for z in range(x):\n",
    "                \n",
    "                if (matrix[z][y] == 0):\n",
    "                    num = 0\n",
    "            result += num\n",
    "                \n",
    "    return result\n",
    "    "
   ]
  },
  {
   "cell_type": "code",
   "execution_count": 109,
   "metadata": {},
   "outputs": [
    {
     "name": "stdout",
     "output_type": "stream",
     "text": [
      "z =  0\n",
      "z =  0\n",
      "z =  0\n",
      "z =  0\n",
      "z =  0\n",
      "z =  1\n",
      "z =  0\n",
      "z =  1\n",
      "z =  0\n",
      "z =  1\n",
      "z =  0\n",
      "z =  1\n"
     ]
    },
    {
     "data": {
      "text/plain": [
       "9"
      ]
     },
     "execution_count": 109,
     "metadata": {},
     "output_type": "execute_result"
    }
   ],
   "source": [
    "matrixElementsSum([[0,1,1,2], \n",
    " [0,5,0,0], \n",
    " [2,0,3,3]])"
   ]
  },
  {
   "cell_type": "code",
   "execution_count": null,
   "metadata": {},
   "outputs": [],
   "source": []
  },
  {
   "cell_type": "code",
   "execution_count": null,
   "metadata": {},
   "outputs": [],
   "source": []
  },
  {
   "cell_type": "code",
   "execution_count": null,
   "metadata": {},
   "outputs": [],
   "source": []
  }
 ],
 "metadata": {
  "kernelspec": {
   "display_name": "Python 3",
   "language": "python",
   "name": "python3"
  },
  "language_info": {
   "codemirror_mode": {
    "name": "ipython",
    "version": 3
   },
   "file_extension": ".py",
   "mimetype": "text/x-python",
   "name": "python",
   "nbconvert_exporter": "python",
   "pygments_lexer": "ipython3",
   "version": "3.6.6"
  }
 },
 "nbformat": 4,
 "nbformat_minor": 2
}
