{
 "cells": [
  {
   "cell_type": "markdown",
   "metadata": {},
   "source": [
    "Given a sequence of integers as an array, determine whether it is possible to obtain a strictly increasing sequence by removing no more than one element from the array.\n",
    "\n",
    "Note: sequence a0, a1, ..., an is considered to be a strictly increasing if a0 < a1 < ... < an. Sequence containing only one element is also considered to be strictly increasing.\n",
    "\n",
    "Example\n",
    "\n",
    "For sequence = [1, 3, 2, 1], the output should be\n",
    "almostIncreasingSequence(sequence) = false.\n",
    "\n",
    "There is no one element in this array that can be removed in order to get a strictly increasing sequence.\n",
    "\n",
    "For sequence = [1, 3, 2], the output should be\n",
    "almostIncreasingSequence(sequence) = true.\n",
    "\n",
    "You can remove 3 from the array to get the strictly increasing sequence [1, 2]. Alternately, you can remove 2 to get the strictly increasing sequence [1, 3].\n",
    "\n",
    "Input/Output\n",
    "\n",
    "[execution time limit] 4 seconds (py3)\n",
    "\n",
    "[input] array.integer sequence\n",
    "\n",
    "Guaranteed constraints:\n",
    "2 ≤ sequence.length ≤ 105,\n",
    "-105 ≤ sequence[i] ≤ 105.\n",
    "\n",
    "[output] boolean\n",
    "\n",
    "Return true if it is possible to remove one element from the array in order to get a strictly increasing sequence, otherwise return false."
   ]
  },
  {
   "cell_type": "code",
   "execution_count": 79,
   "metadata": {},
   "outputs": [],
   "source": [
    "def almostIncreasingSequence(sequence):\n",
    "    cnt = 0\n",
    "    \n",
    "    for x in range(len(sequence)-1):\n",
    "        #print(x)\n",
    "        if (sequence[x] < sequence[x+1]):\n",
    "            continue\n",
    "        else:\n",
    "            cnt += 1\n",
    "    if cnt > 1:\n",
    "        res = False\n",
    "    else:\n",
    "        res = True\n",
    "        \n",
    "    return res"
   ]
  },
  {
   "cell_type": "code",
   "execution_count": 84,
   "metadata": {},
   "outputs": [],
   "source": [
    "def first_bad_pair(sequence):\n",
    "    \n",
    "    for i in range(len(sequence)-1):\n",
    "        if sequence[i] >= sequence[i+1]:\n",
    "            return i\n",
    "    return -1\n",
    "\n",
    "def almostIncreasingSequence(sequence):\n",
    "\n",
    "    j = first_bad_pair(sequence)\n",
    "    if j == -1:\n",
    "        return True  \n",
    "    if first_bad_pair(sequence[j-1:j] + sequence[j+1:]) == -1:\n",
    "        return True  \n",
    "    if first_bad_pair(sequence[j:j+1] + sequence[j+2:]) == -1:\n",
    "        return True  \n",
    "    return False  "
   ]
  },
  {
   "cell_type": "code",
   "execution_count": 85,
   "metadata": {},
   "outputs": [
    {
     "data": {
      "text/plain": [
       "False"
      ]
     },
     "execution_count": 85,
     "metadata": {},
     "output_type": "execute_result"
    }
   ],
   "source": [
    "almostIncreasingSequence([1, 3, 2, 1])"
   ]
  },
  {
   "cell_type": "code",
   "execution_count": 86,
   "metadata": {},
   "outputs": [
    {
     "data": {
      "text/plain": [
       "False"
      ]
     },
     "execution_count": 86,
     "metadata": {},
     "output_type": "execute_result"
    }
   ],
   "source": [
    "almostIncreasingSequence([40, 50, 60, 10, 20, 30])"
   ]
  },
  {
   "cell_type": "code",
   "execution_count": 87,
   "metadata": {},
   "outputs": [
    {
     "data": {
      "text/plain": [
       "True"
      ]
     },
     "execution_count": 87,
     "metadata": {},
     "output_type": "execute_result"
    }
   ],
   "source": [
    "almostIncreasingSequence([ 10, 20, 30, 40, 50, 60])"
   ]
  },
  {
   "cell_type": "code",
   "execution_count": 88,
   "metadata": {},
   "outputs": [
    {
     "data": {
      "text/plain": [
       "False"
      ]
     },
     "execution_count": 88,
     "metadata": {},
     "output_type": "execute_result"
    }
   ],
   "source": [
    "almostIncreasingSequence([1,2,1,2])"
   ]
  },
  {
   "cell_type": "code",
   "execution_count": null,
   "metadata": {},
   "outputs": [],
   "source": []
  }
 ],
 "metadata": {
  "kernelspec": {
   "display_name": "Python 3",
   "language": "python",
   "name": "python3"
  },
  "language_info": {
   "codemirror_mode": {
    "name": "ipython",
    "version": 3
   },
   "file_extension": ".py",
   "mimetype": "text/x-python",
   "name": "python",
   "nbconvert_exporter": "python",
   "pygments_lexer": "ipython3",
   "version": "3.6.6"
  }
 },
 "nbformat": 4,
 "nbformat_minor": 2
}
