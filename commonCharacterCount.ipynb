{
 "cells": [
  {
   "cell_type": "markdown",
   "metadata": {},
   "source": [
    "Given two strings, find the number of common characters between them.\n",
    "\n",
    "Example\n",
    "\n",
    "For s1 = \"aabcc\" and s2 = \"adcaa\", the output should be\n",
    "commonCharacterCount(s1, s2) = 3.\n",
    "\n",
    "Strings have 3 common characters - 2 \"a\"s and 1 \"c\"."
   ]
  },
  {
   "cell_type": "code",
   "execution_count": 80,
   "metadata": {},
   "outputs": [],
   "source": [
    "def commonCharacterCount(s1, s2):\n",
    "    cnt = 0\n",
    "    res = []\n",
    "    res1 = [x for x in s1 if x in s2]\n",
    "    res2 = [x for x in s2 if x in s1]\n",
    "    print(res1)\n",
    "    print(res2)\n",
    "    \n",
    "    \n",
    "    cnt = len(res)\n",
    "    \n",
    "    \n",
    "    return cnt\n",
    "                "
   ]
  },
  {
   "cell_type": "code",
   "execution_count": 84,
   "metadata": {},
   "outputs": [],
   "source": [
    "def commonCharacterCount(s1, s2):\n",
    "    count = 0\n",
    "    while len(s1)>0 and len(s2)>0:\n",
    "        if s1[0] == s2[0]:\n",
    "            count += 1\n",
    "            s1 = s1[1:]\n",
    "            s2 = s2[1:]\n",
    "        elif s1[0] < s2[0]:\n",
    "            s1 = s1[1:]\n",
    "        else:\n",
    "            s2 = s2[1:]\n",
    "    print(count)"
   ]
  },
  {
   "cell_type": "code",
   "execution_count": 86,
   "metadata": {},
   "outputs": [],
   "source": [
    "def commonCharacterCount(s1, s2):\n",
    "    s=0\n",
    "    for i in list(set(s1)):\n",
    "        count1=0\n",
    "        count2=0\n",
    "        if i in s2:\n",
    "            count1 = s1.count(i)\n",
    "            count2=  s2.count(i)\n",
    "            s=s+min(count1,count2)\n",
    "\n",
    "    return(s)"
   ]
  },
  {
   "cell_type": "code",
   "execution_count": 87,
   "metadata": {},
   "outputs": [
    {
     "data": {
      "text/plain": [
       "3"
      ]
     },
     "execution_count": 87,
     "metadata": {},
     "output_type": "execute_result"
    }
   ],
   "source": [
    "commonCharacterCount(\"aabcc\",\"adcaa\")"
   ]
  },
  {
   "cell_type": "code",
   "execution_count": null,
   "metadata": {},
   "outputs": [],
   "source": []
  }
 ],
 "metadata": {
  "kernelspec": {
   "display_name": "Python 3",
   "language": "python",
   "name": "python3"
  },
  "language_info": {
   "codemirror_mode": {
    "name": "ipython",
    "version": 3
   },
   "file_extension": ".py",
   "mimetype": "text/x-python",
   "name": "python",
   "nbconvert_exporter": "python",
   "pygments_lexer": "ipython3",
   "version": "3.6.6"
  }
 },
 "nbformat": 4,
 "nbformat_minor": 2
}
