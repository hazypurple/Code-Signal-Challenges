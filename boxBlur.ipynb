{
 "cells": [
  {
   "cell_type": "markdown",
   "metadata": {},
   "source": [
    "Last night you partied a little too hard. Now there's a black and white photo of you that's about to go viral! You can't let this ruin your reputation, so you want to apply the box blur algorithm to the photo to hide its content.\n",
    "\n",
    "The pixels in the input image are represented as integers. The algorithm distorts the input image in the following way: Every pixel x in the output image has a value equal to the average value of the pixel values from the 3 × 3 square that has its center at x, including x itself. All the pixels on the border of x are then removed.\n",
    "\n",
    "Return the blurred image as an integer, with the fractions rounded down.\n",
    "\n",
    "Example\n",
    "\n",
    "For\n",
    "\n",
    "image = [[1, 1, 1], \n",
    "         [1, 7, 1], \n",
    "         [1, 1, 1]]\n",
    "the output should be boxBlur(image) = [[1]].\n",
    "\n",
    "To get the value of the middle pixel in the input 3 × 3 square: (1 + 1 + 1 + 1 + 7 + 1 + 1 + 1 + 1) = 15 / 9 = 1.66666 = 1. The border pixels are cropped from the final result.\n",
    "\n",
    "For\n",
    "\n",
    "image = [[7, 4, 0, 1], \n",
    "         [5, 6, 2, 2], \n",
    "         [6, 10, 7, 8], \n",
    "         [1, 4, 2, 0]]\n",
    "the output should be\n",
    "\n",
    "boxBlur(image) = [[5, 4], \n",
    "                  [4, 4]]\n",
    "There are four 3 × 3 squares in the input image, so there should be four integers in the blurred output. To get the first value: (7 + 4 + 0 + 5 + 6 + 2 + 6 + 10 + 7) = 47 / 9 = 5.2222 = 5. The other three integers are obtained the same way, then the surrounding integers are cropped from the final result."
   ]
  },
  {
   "cell_type": "code",
   "execution_count": 1,
   "metadata": {},
   "outputs": [],
   "source": [
    "def boxBlur(image):\n",
    "    \n",
    "    output = []\n",
    "    result = []\n",
    "    y_size = len(image)\n",
    "    x_size = len(image[0])\n",
    "    total = 0\n",
    "    \n",
    "    for j in range(y_size-2):  \n",
    "        for k in range(x_size-2):\n",
    "            if (j > len(image)-3 | k > len(image)-3):\n",
    "                break\n",
    "            else:\n",
    "                block = int(sum(image[x+j][y+k] for x in range(3) for y in range(3))/9)\n",
    "                output.append(block)\n",
    "        result.append(output)\n",
    "        output = []    \n",
    "    return result\n",
    "    "
   ]
  },
  {
   "cell_type": "code",
   "execution_count": null,
   "metadata": {},
   "outputs": [],
   "source": [
    "image = [[36,0,18,9], \n",
    " [27,54,9,0], \n",
    " [81,63,72,45]]\n",
    "boxBlur(image)"
   ]
  },
  {
   "cell_type": "code",
   "execution_count": null,
   "metadata": {},
   "outputs": [],
   "source": [
    "image = [[1, 1, 1], \n",
    "         [1, 7, 1], \n",
    "         [1, 1, 1]]\n",
    "boxBlur(image) #= [[1]]"
   ]
  }
 ],
 "metadata": {
  "kernelspec": {
   "display_name": "Python 3",
   "language": "python",
   "name": "python3"
  },
  "language_info": {
   "codemirror_mode": {
    "name": "ipython",
    "version": 3
   },
   "file_extension": ".py",
   "mimetype": "text/x-python",
   "name": "python",
   "nbconvert_exporter": "python",
   "pygments_lexer": "ipython3",
   "version": "3.6.6"
  }
 },
 "nbformat": 4,
 "nbformat_minor": 2
}
