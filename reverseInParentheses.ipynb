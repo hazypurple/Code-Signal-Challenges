{
 "cells": [
  {
   "cell_type": "markdown",
   "metadata": {},
   "source": [
    "Write a function that reverses characters in (possibly nested) parentheses in the input string.\n",
    "\n",
    "Input strings will always be well-formed with matching ()s.\n",
    "\n",
    "Example\n",
    "\n",
    "For inputString = \"(bar)\", the output should be\n",
    "reverseInParentheses(inputString) = \"rab\";\n",
    "For inputString = \"foo(bar)baz\", the output should be\n",
    "reverseInParentheses(inputString) = \"foorabbaz\";\n",
    "For inputString = \"foo(bar)baz(blim)\", the output should be\n",
    "reverseInParentheses(inputString) = \"foorabbazmilb\";\n",
    "For inputString = \"foo(bar(baz))blim\", the output should be\n",
    "reverseInParentheses(inputString) = \"foobazrabblim\".\n",
    "Because \"foo(bar(baz))blim\" becomes \"foo(barzab)blim\" and then \"foobazrabblim\"."
   ]
  },
  {
   "cell_type": "code",
   "execution_count": 88,
   "metadata": {},
   "outputs": [],
   "source": [
    "def reverseInParentheses(inputString):\n",
    "    \n",
    "    str1 = [x for x in inputString] \n",
    "    #print(str1)\n",
    "    \n",
    "    for y in str1:\n",
    "        #print(y)\n",
    "        if (y == '('):\n",
    "            start = str1.index(y)\n",
    "            for z in reversed(str1):    \n",
    "                #print('z = ',z)\n",
    "                if (z == ')'):\n",
    "                    end = str1.index(z)\n",
    "                    btw = start - end\n",
    "                    swap = str1[(start+1):end]\n",
    "                    #print(swap)\n",
    "                    indx = start\n",
    "                    for w in reversed(swap):\n",
    "                        indx += 1\n",
    "                        str1[indx] = w\n",
    "                        \n",
    "    print(\"\".join(str1))\n",
    "\n",
    "\n",
    "    "
   ]
  },
  {
   "cell_type": "code",
   "execution_count": 104,
   "metadata": {},
   "outputs": [],
   "source": [
    "def reverseInParentheses(inputString):\n",
    "    \n",
    "    inputstr = list(inputString)\n",
    "    str1 = []\n",
    "    for i, c in enumerate(inputstr):\n",
    "        if c == '(':\n",
    "            str1.append(i)\n",
    "        elif c == ')':\n",
    "            j = str1.pop()\n",
    "            inputstr[j:i] = inputstr[i:j:-1]\n",
    "    result = ''.join(c for c in inputstr if c not in '()')\n",
    "    \n",
    "    return result"
   ]
  },
  {
   "cell_type": "code",
   "execution_count": 105,
   "metadata": {},
   "outputs": [
    {
     "data": {
      "text/plain": [
       "'rab'"
      ]
     },
     "execution_count": 105,
     "metadata": {},
     "output_type": "execute_result"
    }
   ],
   "source": [
    "reverseInParentheses(\"(bar)\")"
   ]
  },
  {
   "cell_type": "code",
   "execution_count": 106,
   "metadata": {},
   "outputs": [
    {
     "data": {
      "text/plain": [
       "'foorabbaz'"
      ]
     },
     "execution_count": 106,
     "metadata": {},
     "output_type": "execute_result"
    }
   ],
   "source": [
    "reverseInParentheses(\"foo(bar)baz\")"
   ]
  },
  {
   "cell_type": "code",
   "execution_count": 107,
   "metadata": {},
   "outputs": [
    {
     "data": {
      "text/plain": [
       "'foorabbazmilb'"
      ]
     },
     "execution_count": 107,
     "metadata": {},
     "output_type": "execute_result"
    }
   ],
   "source": [
    "reverseInParentheses(\"foo(bar)baz(blim)\")"
   ]
  },
  {
   "cell_type": "code",
   "execution_count": 108,
   "metadata": {},
   "outputs": [
    {
     "data": {
      "text/plain": [
       "'foobazrabblim'"
      ]
     },
     "execution_count": 108,
     "metadata": {},
     "output_type": "execute_result"
    }
   ],
   "source": [
    "reverseInParentheses(\"foo(bar(baz))blim\")"
   ]
  },
  {
   "cell_type": "code",
   "execution_count": null,
   "metadata": {},
   "outputs": [],
   "source": []
  },
  {
   "cell_type": "code",
   "execution_count": null,
   "metadata": {},
   "outputs": [],
   "source": []
  }
 ],
 "metadata": {
  "kernelspec": {
   "display_name": "Python 3",
   "language": "python",
   "name": "python3"
  },
  "language_info": {
   "codemirror_mode": {
    "name": "ipython",
    "version": 3
   },
   "file_extension": ".py",
   "mimetype": "text/x-python",
   "name": "python",
   "nbconvert_exporter": "python",
   "pygments_lexer": "ipython3",
   "version": "3.6.6"
  }
 },
 "nbformat": 4,
 "nbformat_minor": 2
}
