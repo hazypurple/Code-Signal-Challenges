{
 "cells": [
  {
   "cell_type": "markdown",
   "metadata": {},
   "source": [
    "Ticket numbers usually consist of an even number of digits. A ticket number is considered lucky if the sum of the first half of the digits is equal to the sum of the second half.\n",
    "\n",
    "Given a ticket number n, determine if it's lucky or not.\n",
    "\n",
    "Example\n",
    "\n",
    "For n = 1230, the output should be\n",
    "isLucky(n) = true;\n",
    "For n = 239017, the output should be\n",
    "isLucky(n) = false."
   ]
  },
  {
   "cell_type": "code",
   "execution_count": 50,
   "metadata": {},
   "outputs": [],
   "source": [
    "def isLucky(n):\n",
    "    \n",
    "    \n",
    "    halfway = int(round(len(str(n)))/2)\n",
    "    \n",
    "    uphalf = list(str(n)[:((halfway))])\n",
    "    lowhalf = list(str(n)[(halfway):])\n",
    " \n",
    "    add_up = 0\n",
    "    \n",
    "    for x in range(len(uphalf)):\n",
    "        add_up += int(uphalf[x])\n",
    "    \n",
    "    add_low = 0\n",
    "    \n",
    "    for x in range(len(lowhalf)):\n",
    "        add_low += int(lowhalf[x])  \n",
    "  \n",
    "    if (add_up == add_low):\n",
    "        result = True\n",
    "    else:\n",
    "        result = False\n",
    "        \n",
    "    return result"
   ]
  },
  {
   "cell_type": "code",
   "execution_count": 51,
   "metadata": {},
   "outputs": [
    {
     "data": {
      "text/plain": [
       "True"
      ]
     },
     "execution_count": 51,
     "metadata": {},
     "output_type": "execute_result"
    }
   ],
   "source": [
    "isLucky(1230)"
   ]
  },
  {
   "cell_type": "code",
   "execution_count": 52,
   "metadata": {},
   "outputs": [
    {
     "data": {
      "text/plain": [
       "False"
      ]
     },
     "execution_count": 52,
     "metadata": {},
     "output_type": "execute_result"
    }
   ],
   "source": [
    "isLucky(239017)"
   ]
  },
  {
   "cell_type": "code",
   "execution_count": null,
   "metadata": {},
   "outputs": [],
   "source": []
  }
 ],
 "metadata": {
  "kernelspec": {
   "display_name": "Python 3",
   "language": "python",
   "name": "python3"
  },
  "language_info": {
   "codemirror_mode": {
    "name": "ipython",
    "version": 3
   },
   "file_extension": ".py",
   "mimetype": "text/x-python",
   "name": "python",
   "nbconvert_exporter": "python",
   "pygments_lexer": "ipython3",
   "version": "3.6.6"
  }
 },
 "nbformat": 4,
 "nbformat_minor": 2
}
