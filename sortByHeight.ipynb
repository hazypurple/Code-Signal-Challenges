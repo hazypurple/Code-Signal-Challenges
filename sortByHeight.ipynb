{
 "cells": [
  {
   "cell_type": "markdown",
   "metadata": {},
   "source": [
    "Some people are standing in a row in a park. There are trees between them which cannot be moved. Your task is to rearrange the people by their heights in a non-descending order without moving the trees. People can be very tall!\n",
    "\n",
    "Example\n",
    "\n",
    "For a = [-1, 150, 190, 170, -1, -1, 160, 180], the output should be\n",
    "sortByHeight(a) = [-1, 150, 160, 170, -1, -1, 180, 190]"
   ]
  },
  {
   "cell_type": "code",
   "execution_count": 26,
   "metadata": {},
   "outputs": [],
   "source": [
    "def sortByHeight(a):\n",
    "    \n",
    "    result = []\n",
    "    \n",
    "    ht_list = [x for x in a if x != -1]\n",
    "    \n",
    "    ht_list = sorted(ht_list)\n",
    "    y = 0\n",
    "    for z in a:\n",
    "        if (z == -1):\n",
    "            result.append(z)\n",
    "            \n",
    "        else:\n",
    "            result.append(ht_list[y])\n",
    "            y += 1\n",
    "            \n",
    "    return result"
   ]
  },
  {
   "cell_type": "code",
   "execution_count": 27,
   "metadata": {},
   "outputs": [
    {
     "name": "stdout",
     "output_type": "stream",
     "text": [
      "[-1, 150, 160, 170, -1, -1, 180, 190]\n"
     ]
    }
   ],
   "source": [
    "sortByHeight([-1, 150, 190, 170, -1, -1, 160, 180])"
   ]
  },
  {
   "cell_type": "code",
   "execution_count": null,
   "metadata": {},
   "outputs": [],
   "source": []
  }
 ],
 "metadata": {
  "kernelspec": {
   "display_name": "Python 3",
   "language": "python",
   "name": "python3"
  },
  "language_info": {
   "codemirror_mode": {
    "name": "ipython",
    "version": 3
   },
   "file_extension": ".py",
   "mimetype": "text/x-python",
   "name": "python",
   "nbconvert_exporter": "python",
   "pygments_lexer": "ipython3",
   "version": "3.6.6"
  }
 },
 "nbformat": 4,
 "nbformat_minor": 2
}
