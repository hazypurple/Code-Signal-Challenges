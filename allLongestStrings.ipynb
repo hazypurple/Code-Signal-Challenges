{
 "cells": [
  {
   "cell_type": "markdown",
   "metadata": {},
   "source": [
    "Given an array of strings, return another array containing all of its longest strings.\n",
    "\n",
    "Example\n",
    "\n",
    "For inputArray = [\"aba\", \"aa\", \"ad\", \"vcd\", \"aba\"], the output should be\n",
    "allLongestStrings(inputArray) = [\"aba\", \"vcd\", \"aba\"]."
   ]
  },
  {
   "cell_type": "code",
   "execution_count": 18,
   "metadata": {},
   "outputs": [],
   "source": [
    "def allLongestStrings(inputArray):\n",
    "    \n",
    "    check = []\n",
    "    result = []\n",
    "    answer = []\n",
    "    \n",
    "    for x in inputArray:\n",
    "        result.append(len(x))\n",
    "        \n",
    "    longest = max(result)\n",
    "       \n",
    "    for y in inputArray:\n",
    "        if len(y) == longest:\n",
    "            answer.append(y)\n",
    "            \n",
    "    return answer\n",
    "\n"
   ]
  },
  {
   "cell_type": "code",
   "execution_count": 19,
   "metadata": {},
   "outputs": [
    {
     "data": {
      "text/plain": [
       "['aba', 'vcd', 'aba']"
      ]
     },
     "execution_count": 19,
     "metadata": {},
     "output_type": "execute_result"
    }
   ],
   "source": [
    "allLongestStrings([\"aba\", \"aa\", \"ad\", \"vcd\", \"aba\"])"
   ]
  },
  {
   "cell_type": "code",
   "execution_count": null,
   "metadata": {},
   "outputs": [],
   "source": []
  }
 ],
 "metadata": {
  "kernelspec": {
   "display_name": "Python 3",
   "language": "python",
   "name": "python3"
  },
  "language_info": {
   "codemirror_mode": {
    "name": "ipython",
    "version": 3
   },
   "file_extension": ".py",
   "mimetype": "text/x-python",
   "name": "python",
   "nbconvert_exporter": "python",
   "pygments_lexer": "ipython3",
   "version": "3.6.6"
  }
 },
 "nbformat": 4,
 "nbformat_minor": 2
}
